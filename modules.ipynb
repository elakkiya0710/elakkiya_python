{
 "cells": [
  {
   "cell_type": "code",
   "execution_count": 7,
   "metadata": {},
   "outputs": [],
   "source": [
    "import area_box"
   ]
  },
  {
   "cell_type": "code",
   "execution_count": 8,
   "metadata": {},
   "outputs": [
    {
     "data": {
      "text/plain": [
       "78.53981633974483"
      ]
     },
     "execution_count": 8,
     "metadata": {},
     "output_type": "execute_result"
    }
   ],
   "source": [
    "area_box.circle(5)"
   ]
  },
  {
   "cell_type": "code",
   "execution_count": 22,
   "metadata": {},
   "outputs": [],
   "source": [
    "import area_box as ab"
   ]
  },
  {
   "cell_type": "code",
   "execution_count": 23,
   "metadata": {},
   "outputs": [
    {
     "data": {
      "text/plain": [
       "9852.03456165759"
      ]
     },
     "execution_count": 23,
     "metadata": {},
     "output_type": "execute_result"
    }
   ],
   "source": [
    "ab.circle(56)"
   ]
  },
  {
   "cell_type": "code",
   "execution_count": 24,
   "metadata": {},
   "outputs": [],
   "source": [
    "from area_box import circle"
   ]
  },
  {
   "cell_type": "code",
   "execution_count": 25,
   "metadata": {},
   "outputs": [
    {
     "data": {
      "text/plain": [
       "314.1592653589793"
      ]
     },
     "execution_count": 25,
     "metadata": {},
     "output_type": "execute_result"
    }
   ],
   "source": [
    "area_box.circle(10)"
   ]
  },
  {
   "cell_type": "code",
   "execution_count": 26,
   "metadata": {},
   "outputs": [
    {
     "name": "stdout",
     "output_type": "stream",
     "text": [
      "Help on module area_box:\n",
      "\n",
      "NAME\n",
      "    area_box\n",
      "\n",
      "FUNCTIONS\n",
      "    circle(radius)\n",
      "        To find the area of the Circle\n",
      "        circle(radius)\n",
      "        radius - enter the radius of the circle\n",
      "    \n",
      "    rectangle(length, breath)\n",
      "        To find the area of the Rectangle\n",
      "        rectangle(length, breadth)\n",
      "        length - enter the length of the rectangle\n",
      "        breadth - enter the breadth of the rectangle\n",
      "\n",
      "FILE\n",
      "    /home/variablzstudent/Documents/elakkiya python/area_box.py\n",
      "\n",
      "\n"
     ]
    }
   ],
   "source": [
    "help(area_box)"
   ]
  },
  {
   "cell_type": "code",
   "execution_count": 27,
   "metadata": {},
   "outputs": [],
   "source": [
    "class AmazonAccount:\n",
    "    message = 'Welcome to Amazon'"
   ]
  },
  {
   "cell_type": "code",
   "execution_count": 29,
   "metadata": {},
   "outputs": [],
   "source": [
    "parthiban = AmazonAccount()\n",
    "ragul = AmazonAccount()"
   ]
  },
  {
   "cell_type": "code",
   "execution_count": 30,
   "metadata": {},
   "outputs": [
    {
     "data": {
      "text/plain": [
       "'Welcome to Amazon'"
      ]
     },
     "execution_count": 30,
     "metadata": {},
     "output_type": "execute_result"
    }
   ],
   "source": [
    "parthiban.message"
   ]
  },
  {
   "cell_type": "code",
   "execution_count": 31,
   "metadata": {},
   "outputs": [
    {
     "data": {
      "text/plain": [
       "'Welcome to Amazon'"
      ]
     },
     "execution_count": 31,
     "metadata": {},
     "output_type": "execute_result"
    }
   ],
   "source": [
    "ragul.message"
   ]
  },
  {
   "cell_type": "code",
   "execution_count": 3,
   "metadata": {},
   "outputs": [
    {
     "name": "stdout",
     "output_type": "stream",
     "text": [
      "1\n",
      "12\n",
      "123\n",
      "1234\n"
     ]
    }
   ],
   "source": [
    "n = int(input(\"enter the number of rows:\"))\n",
    "for i in range(1, n+1):\n",
    "    for j in range(1, i+1):\n",
    "        print (j,end=\"\")\n",
    "    print()\n"
   ]
  },
  {
   "cell_type": "code",
   "execution_count": 6,
   "metadata": {},
   "outputs": [
    {
     "name": "stdout",
     "output_type": "stream",
     "text": [
      "1\n",
      "22\n",
      "333\n",
      "4444\n",
      "55555\n"
     ]
    }
   ],
   "source": [
    "for r in range(0,5):\n",
    "    for c in range(0,r+1):\n",
    "        print(r+1,end='')\n",
    "    print()"
   ]
  },
  {
   "cell_type": "code",
   "execution_count": 1,
   "metadata": {},
   "outputs": [],
   "source": [
    "class AmazonAccount:\n",
    "    def __init__(self):\n",
    "        print(f'Object Created')\n",
    "    def __del__(self):\n",
    "        print('Object Deleted')"
   ]
  },
  {
   "cell_type": "code",
   "execution_count": 2,
   "metadata": {},
   "outputs": [
    {
     "name": "stdout",
     "output_type": "stream",
     "text": [
      "Object Created\n"
     ]
    }
   ],
   "source": [
    "parthiban = AmazonAccount()"
   ]
  },
  {
   "cell_type": "code",
   "execution_count": 4,
   "metadata": {},
   "outputs": [
    {
     "name": "stdout",
     "output_type": "stream",
     "text": [
      "Object Deleted\n"
     ]
    }
   ],
   "source": [
    "del parthiban"
   ]
  },
  {
   "cell_type": "code",
   "execution_count": 5,
   "metadata": {},
   "outputs": [],
   "source": [
    "class AmazonAccount:\n",
    "    message = 'Welcome to Amazon'\n",
    "    __default_delivery = 7\n",
    "    def __init__(self, name, mail):\n",
    "        self.name = name\n",
    "        self.__mail = mail\n",
    "        print(f'Hello {self.name}!\\n{self.message}')"
   ]
  },
  {
   "cell_type": "code",
   "execution_count": 7,
   "metadata": {},
   "outputs": [
    {
     "name": "stdout",
     "output_type": "stream",
     "text": [
      "Hello Parthi!\n",
      "Welcome to Amazon\n"
     ]
    }
   ],
   "source": [
    "parthiban = AmazonAccount('Parthi', 'parthi@gmail.com')"
   ]
  },
  {
   "cell_type": "code",
   "execution_count": 8,
   "metadata": {},
   "outputs": [
    {
     "data": {
      "text/plain": [
       "'Parthi'"
      ]
     },
     "execution_count": 8,
     "metadata": {},
     "output_type": "execute_result"
    }
   ],
   "source": [
    "parthiban.name"
   ]
  },
  {
   "cell_type": "code",
   "execution_count": 12,
   "metadata": {},
   "outputs": [
    {
     "ename": "AttributeError",
     "evalue": "'AmazonAccount' object has no attribute '__mail'",
     "output_type": "error",
     "traceback": [
      "\u001b[0;31m---------------------------------------------------------------------------\u001b[0m",
      "\u001b[0;31mAttributeError\u001b[0m                            Traceback (most recent call last)",
      "Cell \u001b[0;32mIn[12], line 1\u001b[0m\n\u001b[0;32m----> 1\u001b[0m \u001b[43mparthiban\u001b[49m\u001b[38;5;241;43m.\u001b[39;49m\u001b[43m__mail\u001b[49m\n",
      "\u001b[0;31mAttributeError\u001b[0m: 'AmazonAccount' object has no attribute '__mail'"
     ]
    }
   ],
   "source": [
    "parthiban.__mail"
   ]
  },
  {
   "cell_type": "code",
   "execution_count": 20,
   "metadata": {},
   "outputs": [],
   "source": [
    "class AmazonAccount:\n",
    "    __defaul_delivery = 7\n",
    "    welcomeMessage = 'Welcome to Amazon Account'\n",
    "    def __init__(self, name, mobile, email):\n",
    "        self.name = name\n",
    "        self.mobile = mobile\n",
    "        self.email = email\n",
    "    def shopping(self,item):\n",
    "        print(f'{self.name} bought {item}')\n",
    "    def delivery(self):\n",
    "        print(f'Your order will be deliverd in {self.__default_delivery}')\n",
    "    def __deactivate_account(self):\n",
    "        print(f'{self.name} account deactivate successfully')\n"
   ]
  },
  {
   "cell_type": "code",
   "execution_count": 14,
   "metadata": {},
   "outputs": [],
   "source": [
    "parthiban = AmazonAccount('parthi', '36543787', 'parthi@gmail.com')"
   ]
  },
  {
   "cell_type": "code",
   "execution_count": 17,
   "metadata": {},
   "outputs": [
    {
     "name": "stdout",
     "output_type": "stream",
     "text": [
      "parthi bought iPhone\n"
     ]
    }
   ],
   "source": [
    "parthiban.shopping('iPhone')"
   ]
  },
  {
   "cell_type": "code",
   "execution_count": 26,
   "metadata": {},
   "outputs": [
    {
     "ename": "AttributeError",
     "evalue": "'AmazonAccount' object has no attribute '_AmazonAccount__default_delivery'",
     "output_type": "error",
     "traceback": [
      "\u001b[0;31m---------------------------------------------------------------------------\u001b[0m",
      "\u001b[0;31mAttributeError\u001b[0m                            Traceback (most recent call last)",
      "Cell \u001b[0;32mIn[26], line 1\u001b[0m\n\u001b[0;32m----> 1\u001b[0m \u001b[43mparthiban\u001b[49m\u001b[38;5;241;43m.\u001b[39;49m\u001b[43mdelivery\u001b[49m\u001b[43m(\u001b[49m\u001b[43m)\u001b[49m\n",
      "Cell \u001b[0;32mIn[20], line 11\u001b[0m, in \u001b[0;36mAmazonAccount.delivery\u001b[0;34m(self)\u001b[0m\n\u001b[1;32m     10\u001b[0m \u001b[38;5;28;01mdef\u001b[39;00m \u001b[38;5;21mdelivery\u001b[39m(\u001b[38;5;28mself\u001b[39m):\n\u001b[0;32m---> 11\u001b[0m     \u001b[38;5;28mprint\u001b[39m(\u001b[38;5;124mf\u001b[39m\u001b[38;5;124m'\u001b[39m\u001b[38;5;124mYour order will be deliverd in \u001b[39m\u001b[38;5;132;01m{\u001b[39;00m\u001b[38;5;28;43mself\u001b[39;49m\u001b[38;5;241;43m.\u001b[39;49m\u001b[43m__default_delivery\u001b[49m\u001b[38;5;132;01m}\u001b[39;00m\u001b[38;5;124m'\u001b[39m)\n",
      "\u001b[0;31mAttributeError\u001b[0m: 'AmazonAccount' object has no attribute '_AmazonAccount__default_delivery'"
     ]
    }
   ],
   "source": [
    "parthiban.delivery()"
   ]
  },
  {
   "cell_type": "code",
   "execution_count": 27,
   "metadata": {},
   "outputs": [
    {
     "ename": "AttributeError",
     "evalue": "'AmazonAccount' object has no attribute '__deactivate_account'",
     "output_type": "error",
     "traceback": [
      "\u001b[0;31m---------------------------------------------------------------------------\u001b[0m",
      "\u001b[0;31mAttributeError\u001b[0m                            Traceback (most recent call last)",
      "Cell \u001b[0;32mIn[27], line 1\u001b[0m\n\u001b[0;32m----> 1\u001b[0m \u001b[43mparthiban\u001b[49m\u001b[38;5;241;43m.\u001b[39;49m\u001b[43m__deactivate_account\u001b[49m()\n",
      "\u001b[0;31mAttributeError\u001b[0m: 'AmazonAccount' object has no attribute '__deactivate_account'"
     ]
    }
   ],
   "source": [
    "parthiban.__deactivate_account()"
   ]
  },
  {
   "cell_type": "code",
   "execution_count": 37,
   "metadata": {},
   "outputs": [],
   "source": [
    "class standard_account:\n",
    "    __default_delivery = 7\n",
    "    welcomeMessage = 'Welcome to Atomz Account'\n",
    "    def __init__(self, name, mobile, email):\n",
    "        self.name = name\n",
    "        self.mobile = mobile\n",
    "        self.email = email\n",
    "        print(self.welcomeMessage)\n",
    "    def shopping(self,item):\n",
    "            print(f'{self.name} bought {item}')\n",
    "    def delivery(self):\n",
    "         print(f'Your ordered will be delivered in {self.__default_delivery}')\n",
    "    def deactivate_account(self):\n",
    "         print(f'{self.name} account deactivate successfully')"
   ]
  },
  {
   "cell_type": "code",
   "execution_count": 29,
   "metadata": {},
   "outputs": [
    {
     "name": "stdout",
     "output_type": "stream",
     "text": [
      "Welcome to Atomz Account\n"
     ]
    },
    {
     "data": {
      "text/plain": [
       "'Parthiban'"
      ]
     },
     "execution_count": 29,
     "metadata": {},
     "output_type": "execute_result"
    }
   ],
   "source": [
    "myAccount = standard_account('Parthiban', '8903394773',\n",
    "            'parthiban@gmail.com')\n",
    "myAccount.name"
   ]
  },
  {
   "cell_type": "code",
   "execution_count": 30,
   "metadata": {},
   "outputs": [
    {
     "name": "stdout",
     "output_type": "stream",
     "text": [
      "Your ordered will be delivered in 7\n",
      "Parthiban bought iPhone\n",
      "Parthiban account deactivate successfully\n"
     ]
    }
   ],
   "source": [
    "myAccount.delivery()\n",
    "myAccount.shopping('iPhone')\n",
    "myAccount.deactivate_account()"
   ]
  },
  {
   "cell_type": "code",
   "execution_count": 38,
   "metadata": {},
   "outputs": [],
   "source": [
    "class premium_account(standard_account):\n",
    "    welcomeMessage = 'Welcome to Atomz **prime** Account'\n",
    "    def delivery(self):\n",
    "        premium_delivery = 1\n",
    "        print(f'''Your order will be delivered\n",
    "              in {premium_delivery} days''')\n",
    "    def prime_video(self):\n",
    "        print('Prime Video Membership enabled')\n",
    "    def cancel_membership(self):\n",
    "        print(f'{self.name} Successfully cancelled the membership')"
   ]
  },
  {
   "cell_type": "code",
   "execution_count": 39,
   "metadata": {},
   "outputs": [
    {
     "name": "stdout",
     "output_type": "stream",
     "text": [
      "Welcome to Atomz **prime** Account\n"
     ]
    },
    {
     "data": {
      "text/plain": [
       "'Parthiban'"
      ]
     },
     "execution_count": 39,
     "metadata": {},
     "output_type": "execute_result"
    }
   ],
   "source": [
    "myPremiumAccount = premium_account('Parthiban', '9092264701',\n",
    "                                   'parthiban@gmail.com')\n",
    "myPremiumAccount.name"
   ]
  },
  {
   "cell_type": "code",
   "execution_count": 41,
   "metadata": {},
   "outputs": [
    {
     "name": "stdout",
     "output_type": "stream",
     "text": [
      "Your order will be delivered\n",
      "              in 1 days\n"
     ]
    }
   ],
   "source": [
    "myPremiumAccount.delivery()"
   ]
  },
  {
   "cell_type": "code",
   "execution_count": 42,
   "metadata": {},
   "outputs": [
    {
     "name": "stdout",
     "output_type": "stream",
     "text": [
      "Parthiban bought iPhone\n"
     ]
    }
   ],
   "source": [
    "myPremiumAccount.shopping('iPhone')"
   ]
  },
  {
   "cell_type": "code",
   "execution_count": 43,
   "metadata": {},
   "outputs": [
    {
     "name": "stdout",
     "output_type": "stream",
     "text": [
      "Prime Video Membership enabled\n"
     ]
    }
   ],
   "source": [
    "myPremiumAccount.prime_video()"
   ]
  },
  {
   "cell_type": "code",
   "execution_count": 44,
   "metadata": {},
   "outputs": [
    {
     "name": "stdout",
     "output_type": "stream",
     "text": [
      "Parthiban account deactivate successfully\n"
     ]
    }
   ],
   "source": [
    "myPremiumAccount.deactivate_account()"
   ]
  },
  {
   "cell_type": "code",
   "execution_count": 45,
   "metadata": {},
   "outputs": [
    {
     "name": "stdout",
     "output_type": "stream",
     "text": [
      "Parthiban Successfully cancelled the membership\n"
     ]
    }
   ],
   "source": [
    "myPremiumAccount.cancel_membership()"
   ]
  },
  {
   "cell_type": "code",
   "execution_count": 16,
   "metadata": {},
   "outputs": [
    {
     "name": "stdout",
     "output_type": "stream",
     "text": [
      "\n",
      "1\n",
      "12\n",
      "123\n",
      "1234\n"
     ]
    }
   ],
   "source": [
    "for i in range(1, 6):\n",
    "    for j in range(1, i):\n",
    "\n",
    "        print(j, end = '')\n",
    "    print()\n",
    "        "
   ]
  },
  {
   "cell_type": "code",
   "execution_count": 18,
   "metadata": {},
   "outputs": [
    {
     "name": "stdout",
     "output_type": "stream",
     "text": [
      "*\n",
      "**\n",
      "***\n",
      "****\n",
      "***\n",
      "**\n",
      "*\n",
      "\n"
     ]
    }
   ],
   "source": [
    "MyString = \"****\"\n",
    "x = 0\n",
    "for i in MyString:\n",
    "    x = x+1\n",
    "    print(MyString [0:x])\n",
    "for i in MyString:\n",
    "    x = x-1\n",
    "    print(MyString [0:x])"
   ]
  },
  {
   "cell_type": "code",
   "execution_count": 23,
   "metadata": {},
   "outputs": [
    {
     "name": "stdout",
     "output_type": "stream",
     "text": [
      "2025 is not a leap year\n"
     ]
    }
   ],
   "source": [
    "year = int(input(\"Enter a valid year :\"))\n",
    "if year % 4 == 0:\n",
    "    if year % 400 == 0 or year % 100 !=0:\n",
    "        print(year, \"is a leap year\")\n",
    "    else:\n",
    "        print(year,\"is not a leap year\")\n",
    "else:\n",
    "    print(year,\"is not a leap year\")"
   ]
  },
  {
   "cell_type": "code",
   "execution_count": 36,
   "metadata": {},
   "outputs": [],
   "source": [
    "class student:\n",
    "    def getdata(name, roleno, m1):\n",
    "        self.name = name\n",
    "        self.roleno = roleno\n",
    "        self.m1 = m1\n",
    "    def disp(self):\n",
    "        print('name is:', self.name)\n",
    "        print('roleno is:', self.roleno)\n",
    "        print('m1 is:', self.m1)"
   ]
  },
  {
   "cell_type": "code",
   "execution_count": 37,
   "metadata": {},
   "outputs": [
    {
     "ename": "TypeError",
     "evalue": "student.getdata() takes 3 positional arguments but 4 were given",
     "output_type": "error",
     "traceback": [
      "\u001b[0;31m---------------------------------------------------------------------------\u001b[0m",
      "\u001b[0;31mTypeError\u001b[0m                                 Traceback (most recent call last)",
      "Cell \u001b[0;32mIn[37], line 2\u001b[0m\n\u001b[1;32m      1\u001b[0m s \u001b[38;5;241m=\u001b[39m student()\n\u001b[0;32m----> 2\u001b[0m \u001b[43ms\u001b[49m\u001b[38;5;241;43m.\u001b[39;49m\u001b[43mgetdata\u001b[49m\u001b[43m(\u001b[49m\u001b[38;5;124;43m'\u001b[39;49m\u001b[38;5;124;43melakkiya\u001b[39;49m\u001b[38;5;124;43m'\u001b[39;49m\u001b[43m,\u001b[49m\u001b[43m \u001b[49m\u001b[38;5;124;43m'\u001b[39;49m\u001b[38;5;124;43m6565354\u001b[39;49m\u001b[38;5;124;43m'\u001b[39;49m\u001b[43m,\u001b[49m\u001b[43m \u001b[49m\u001b[38;5;124;43m'\u001b[39;49m\u001b[38;5;124;43m99\u001b[39;49m\u001b[38;5;124;43m'\u001b[39;49m\u001b[43m,\u001b[49m\u001b[43m)\u001b[49m\n\u001b[1;32m      3\u001b[0m s\u001b[38;5;241m.\u001b[39mdisp()\n",
      "\u001b[0;31mTypeError\u001b[0m: student.getdata() takes 3 positional arguments but 4 were given"
     ]
    }
   ],
   "source": [
    "s = student()\n",
    "s.getdata('elakkiya', '6565354', '99',)\n",
    "s.disp()"
   ]
  },
  {
   "cell_type": "code",
   "execution_count": null,
   "metadata": {},
   "outputs": [],
   "source": []
  }
 ],
 "metadata": {
  "kernelspec": {
   "display_name": "Python 3",
   "language": "python",
   "name": "python3"
  },
  "language_info": {
   "codemirror_mode": {
    "name": "ipython",
    "version": 3
   },
   "file_extension": ".py",
   "mimetype": "text/x-python",
   "name": "python",
   "nbconvert_exporter": "python",
   "pygments_lexer": "ipython3",
   "version": "3.10.12"
  }
 },
 "nbformat": 4,
 "nbformat_minor": 2
}
