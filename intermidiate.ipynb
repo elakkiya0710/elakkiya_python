{
 "cells": [
  {
   "cell_type": "code",
   "execution_count": 32,
   "metadata": {},
   "outputs": [
    {
     "data": {
      "text/plain": [
       "['coke', 'pepsi', 'sprit', 'fanta', 'miranda']"
      ]
     },
     "execution_count": 32,
     "metadata": {},
     "output_type": "execute_result"
    }
   ],
   "source": [
    "beverages = ['coke', 'pepsi', 'sprit', 'fanta', 'miranda']\n",
    "beverages"
   ]
  },
  {
   "cell_type": "code",
   "execution_count": 33,
   "metadata": {},
   "outputs": [
    {
     "name": "stdout",
     "output_type": "stream",
     "text": [
      "coke\n",
      "pepsi\n",
      "sprit\n",
      "fanta\n",
      "miranda\n"
     ]
    }
   ],
   "source": [
    "for beverage in beverages:\n",
    "    print(beverage)"
   ]
  },
  {
   "cell_type": "code",
   "execution_count": 34,
   "metadata": {},
   "outputs": [],
   "source": [
    "sentence = 'My Name is Billa'"
   ]
  },
  {
   "cell_type": "code",
   "execution_count": 35,
   "metadata": {},
   "outputs": [
    {
     "name": "stdout",
     "output_type": "stream",
     "text": [
      "M\n",
      "y\n",
      " \n",
      "N\n",
      "a\n",
      "m\n",
      "e\n",
      " \n",
      "i\n",
      "s\n",
      " \n",
      "B\n",
      "i\n",
      "l\n",
      "l\n",
      "a\n"
     ]
    }
   ],
   "source": [
    "for item in sentence:\n",
    "    print(item)"
   ]
  },
  {
   "cell_type": "code",
   "execution_count": 36,
   "metadata": {},
   "outputs": [
    {
     "data": {
      "text/plain": [
       "range(0, 5)"
      ]
     },
     "execution_count": 36,
     "metadata": {},
     "output_type": "execute_result"
    }
   ],
   "source": [
    "numbers = range(5)\n",
    "numbers"
   ]
  },
  {
   "cell_type": "code",
   "execution_count": 37,
   "metadata": {},
   "outputs": [
    {
     "name": "stdout",
     "output_type": "stream",
     "text": [
      "0\n",
      "1\n",
      "2\n",
      "3\n",
      "4\n"
     ]
    }
   ],
   "source": [
    "for number in numbers:\n",
    "    print(number)"
   ]
  },
  {
   "cell_type": "code",
   "execution_count": 38,
   "metadata": {},
   "outputs": [
    {
     "data": {
      "text/plain": [
       "range(6, 16)"
      ]
     },
     "execution_count": 38,
     "metadata": {},
     "output_type": "execute_result"
    }
   ],
   "source": [
    "numbers = range(6,16)\n",
    "numbers"
   ]
  },
  {
   "cell_type": "code",
   "execution_count": 39,
   "metadata": {},
   "outputs": [
    {
     "name": "stdout",
     "output_type": "stream",
     "text": [
      "6\n",
      "7\n",
      "8\n",
      "9\n",
      "10\n",
      "11\n",
      "12\n",
      "13\n",
      "14\n",
      "15\n"
     ]
    }
   ],
   "source": [
    "for number in numbers:\n",
    "    print(number)"
   ]
  },
  {
   "cell_type": "code",
   "execution_count": 40,
   "metadata": {},
   "outputs": [
    {
     "data": {
      "text/plain": [
       "(1, 10, 3)"
      ]
     },
     "execution_count": 40,
     "metadata": {},
     "output_type": "execute_result"
    }
   ],
   "source": [
    "numbers = (1,10,3)\n",
    "numbers"
   ]
  },
  {
   "cell_type": "code",
   "execution_count": 41,
   "metadata": {},
   "outputs": [
    {
     "name": "stdout",
     "output_type": "stream",
     "text": [
      "1\n",
      "10\n",
      "3\n"
     ]
    }
   ],
   "source": [
    "for number in numbers:\n",
    "    print(number)"
   ]
  },
  {
   "cell_type": "code",
   "execution_count": 42,
   "metadata": {},
   "outputs": [],
   "source": [
    "shopping_cart1 = ['Charger', 'iphone', 'Pencil', 'Notebook']\n",
    "shopping_cart2 = ['Headphone', '5.1 Speaker', 'Carrom Board']\n",
    "shopping_cart3 = ['Shirt', 'Pant', 'Guitar', 'Tablemate']\n",
    "shopping_carts = [shopping_cart1, shopping_cart2, shopping_cart3]\n"
   ]
  },
  {
   "cell_type": "code",
   "execution_count": 43,
   "metadata": {},
   "outputs": [
    {
     "name": "stdout",
     "output_type": "stream",
     "text": [
      "Charger\n",
      "iphone\n",
      "Pencil\n",
      "Notebook\n",
      "Headphone\n",
      "5.1 Speaker\n",
      "Carrom Board\n",
      "Shirt\n",
      "Pant\n",
      "Guitar\n",
      "Tablemate\n"
     ]
    }
   ],
   "source": [
    "for items in shopping_carts:\n",
    "    for items in items:\n",
    "        print(items)\n"
   ]
  },
  {
   "cell_type": "code",
   "execution_count": 44,
   "metadata": {},
   "outputs": [],
   "source": [
    "beverages = ['Pepsi', 'Miranda', 'Fanta', 'Bovanto', 'coke', '7up']\n"
   ]
  },
  {
   "cell_type": "code",
   "execution_count": 45,
   "metadata": {},
   "outputs": [
    {
     "name": "stdout",
     "output_type": "stream",
     "text": [
      "Pepsi\n",
      "Miranda\n",
      "Fanta\n"
     ]
    }
   ],
   "source": [
    "for beverage in beverages:\n",
    "    print(beverage)\n",
    "    if beverage == 'Fanta':\n",
    "        break"
   ]
  },
  {
   "cell_type": "code",
   "execution_count": 46,
   "metadata": {},
   "outputs": [
    {
     "name": "stdout",
     "output_type": "stream",
     "text": [
      "Pepsi\n",
      "Miranda\n",
      "Fanta\n",
      "Fanta is Available\n"
     ]
    }
   ],
   "source": [
    "count = 0\n",
    "while count<len(beverages):\n",
    "    print(beverages[count])\n",
    "    if beverages[count] == 'Fanta':\n",
    "        print('Fanta is Available')\n",
    "        break\n",
    "\n",
    "    count +=1\n",
    "\n",
    "\n",
    "\n"
   ]
  },
  {
   "cell_type": "code",
   "execution_count": 47,
   "metadata": {},
   "outputs": [
    {
     "name": "stdout",
     "output_type": "stream",
     "text": [
      "Buy Pepsi\n",
      "Buy Miranda\n",
      "Buy Bovanto\n",
      "Buy coke\n",
      "Buy 7up\n"
     ]
    }
   ],
   "source": [
    "count = 0\n",
    "while count<len(beverages):\n",
    "    if beverages[count] == 'Fanta':\n",
    "        count +=1\n",
    "        continue\n",
    "\n",
    "    print(f'Buy {beverages[count]}')\n",
    "    count +=1"
   ]
  },
  {
   "cell_type": "code",
   "execution_count": 48,
   "metadata": {},
   "outputs": [
    {
     "name": "stdout",
     "output_type": "stream",
     "text": [
      "Buy Pepsi\n",
      "Buy Miranda\n",
      "Buy Bovanto\n",
      "Buy coke\n",
      "Buy 7up\n"
     ]
    }
   ],
   "source": [
    "for beverage in beverages:\n",
    "    if beverage == 'Fanta':\n",
    "        continue\n",
    "    print(f'Buy {beverage}')"
   ]
  },
  {
   "cell_type": "code",
   "execution_count": 49,
   "metadata": {},
   "outputs": [
    {
     "name": "stdout",
     "output_type": "stream",
     "text": [
      "Book Not Available\n"
     ]
    }
   ],
   "source": [
    "books = ['tamil', 'english', 'maths']\n",
    "count = 0\n",
    "while count<len(books):\n",
    "    if books[count] == 'marathi':\n",
    "        print('Marathi Book Found')\n",
    "    count +=1\n",
    "else:\n",
    "    print('Book Not Available')"
   ]
  },
  {
   "cell_type": "code",
   "execution_count": 50,
   "metadata": {},
   "outputs": [
    {
     "name": "stdout",
     "output_type": "stream",
     "text": [
      "Book not Available\n"
     ]
    }
   ],
   "source": [
    "books = ['tamil', 'emglish', 'maths']\n",
    "\n",
    "for book in books:\n",
    "    if book == 'marathi':\n",
    "        print('Marathi Book Available')\n",
    "else:\n",
    "        print('Book not Available')\n"
   ]
  },
  {
   "cell_type": "code",
   "execution_count": 51,
   "metadata": {},
   "outputs": [
    {
     "ename": "NameError",
     "evalue": "name 'age' is not defined",
     "output_type": "error",
     "traceback": [
      "\u001b[0;31m---------------------------------------------------------------------------\u001b[0m",
      "\u001b[0;31mNameError\u001b[0m                                 Traceback (most recent call last)",
      "Cell \u001b[0;32mIn[51], line 1\u001b[0m\n\u001b[0;32m----> 1\u001b[0m \u001b[38;5;28;01mif\u001b[39;00m \u001b[43mage\u001b[49m \u001b[38;5;241m<\u001b[39m \u001b[38;5;241m30\u001b[39m:\n\u001b[1;32m      2\u001b[0m     \u001b[38;5;28mprint\u001b[39m(\u001b[38;5;124m'\u001b[39m\u001b[38;5;124mYoungster\u001b[39m\u001b[38;5;124m'\u001b[39m)\n",
      "\u001b[0;31mNameError\u001b[0m: name 'age' is not defined"
     ]
    }
   ],
   "source": [
    "if age < 30:\n",
    "    print('Youngster')"
   ]
  },
  {
   "cell_type": "code",
   "execution_count": null,
   "metadata": {},
   "outputs": [
    {
     "name": "stdout",
     "output_type": "stream",
     "text": [
      "Error Occured\n",
      "Operation Done!\n"
     ]
    }
   ],
   "source": [
    "try:\n",
    "    if age<30:\n",
    "        print('Youngster')\n",
    "except:\n",
    "    print('Error Occured')\n",
    "finally:\n",
    "    print('Operation Done!')"
   ]
  },
  {
   "cell_type": "code",
   "execution_count": null,
   "metadata": {},
   "outputs": [
    {
     "name": "stdout",
     "output_type": "stream",
     "text": [
      "Name not defined\n"
     ]
    }
   ],
   "source": [
    "try:\n",
    "    if age<30:\n",
    "        print('Youngster')\n",
    "except NameError:\n",
    "    print('Name not defined')\n",
    "except:\n",
    "    print('Other Error')"
   ]
  },
  {
   "cell_type": "code",
   "execution_count": null,
   "metadata": {},
   "outputs": [
    {
     "name": "stdout",
     "output_type": "stream",
     "text": [
      "Type Not Valid\n"
     ]
    }
   ],
   "source": [
    "age = input('Enter Your age: ')\n",
    "try:\n",
    "    if age<30:\n",
    "        p0rint('Youngster')\n",
    "except NameError:\n",
    "    print('Name not defined')\n",
    "except TypeError:\n",
    "    print('Type Not Valid')\n",
    "except:\n",
    "    print('other Error')"
   ]
  },
  {
   "cell_type": "code",
   "execution_count": null,
   "metadata": {},
   "outputs": [
    {
     "name": "stdout",
     "output_type": "stream",
     "text": [
      "Other Error:\n",
      " '<' not supported between instances of 'str' and 'int'\n"
     ]
    }
   ],
   "source": [
    "age = input('Enter Your Age: ')\n",
    "try:\n",
    "    if age<30:\n",
    "        print ('Youngster')\n",
    "except NameError:\n",
    "    print('Name not defined')\n",
    "except Exception as ex:\n",
    "    print(f'Other Error:\\n {ex}')"
   ]
  },
  {
   "cell_type": "code",
   "execution_count": null,
   "metadata": {},
   "outputs": [],
   "source": [
    "file = open('variablz.txt', 'x')"
   ]
  },
  {
   "cell_type": "code",
   "execution_count": null,
   "metadata": {},
   "outputs": [
    {
     "ename": "FileExistsError",
     "evalue": "[Errno 17] File exists: 'variablz.txt'",
     "output_type": "error",
     "traceback": [
      "\u001b[0;31m---------------------------------------------------------------------------\u001b[0m",
      "\u001b[0;31mFileExistsError\u001b[0m                           Traceback (most recent call last)",
      "Cell \u001b[0;32mIn[35], line 1\u001b[0m\n\u001b[0;32m----> 1\u001b[0m file \u001b[38;5;241m=\u001b[39m \u001b[38;5;28;43mopen\u001b[39;49m\u001b[43m(\u001b[49m\u001b[38;5;124;43m'\u001b[39;49m\u001b[38;5;124;43mvariablz.txt\u001b[39;49m\u001b[38;5;124;43m'\u001b[39;49m\u001b[43m,\u001b[49m\u001b[43m \u001b[49m\u001b[38;5;124;43m'\u001b[39;49m\u001b[38;5;124;43mx\u001b[39;49m\u001b[38;5;124;43m'\u001b[39;49m\u001b[43m)\u001b[49m\n",
      "File \u001b[0;32m~/Documents/elakkiya python/.venv/lib/python3.10/site-packages/IPython/core/interactiveshell.py:324\u001b[0m, in \u001b[0;36m_modified_open\u001b[0;34m(file, *args, **kwargs)\u001b[0m\n\u001b[1;32m    317\u001b[0m \u001b[38;5;28;01mif\u001b[39;00m file \u001b[38;5;129;01min\u001b[39;00m {\u001b[38;5;241m0\u001b[39m, \u001b[38;5;241m1\u001b[39m, \u001b[38;5;241m2\u001b[39m}:\n\u001b[1;32m    318\u001b[0m     \u001b[38;5;28;01mraise\u001b[39;00m \u001b[38;5;167;01mValueError\u001b[39;00m(\n\u001b[1;32m    319\u001b[0m         \u001b[38;5;124mf\u001b[39m\u001b[38;5;124m\"\u001b[39m\u001b[38;5;124mIPython won\u001b[39m\u001b[38;5;124m'\u001b[39m\u001b[38;5;124mt let you open fd=\u001b[39m\u001b[38;5;132;01m{\u001b[39;00mfile\u001b[38;5;132;01m}\u001b[39;00m\u001b[38;5;124m by default \u001b[39m\u001b[38;5;124m\"\u001b[39m\n\u001b[1;32m    320\u001b[0m         \u001b[38;5;124m\"\u001b[39m\u001b[38;5;124mas it is likely to crash IPython. If you know what you are doing, \u001b[39m\u001b[38;5;124m\"\u001b[39m\n\u001b[1;32m    321\u001b[0m         \u001b[38;5;124m\"\u001b[39m\u001b[38;5;124myou can use builtins\u001b[39m\u001b[38;5;124m'\u001b[39m\u001b[38;5;124m open.\u001b[39m\u001b[38;5;124m\"\u001b[39m\n\u001b[1;32m    322\u001b[0m     )\n\u001b[0;32m--> 324\u001b[0m \u001b[38;5;28;01mreturn\u001b[39;00m \u001b[43mio_open\u001b[49m\u001b[43m(\u001b[49m\u001b[43mfile\u001b[49m\u001b[43m,\u001b[49m\u001b[43m \u001b[49m\u001b[38;5;241;43m*\u001b[39;49m\u001b[43margs\u001b[49m\u001b[43m,\u001b[49m\u001b[43m \u001b[49m\u001b[38;5;241;43m*\u001b[39;49m\u001b[38;5;241;43m*\u001b[39;49m\u001b[43mkwargs\u001b[49m\u001b[43m)\u001b[49m\n",
      "\u001b[0;31mFileExistsError\u001b[0m: [Errno 17] File exists: 'variablz.txt'"
     ]
    }
   ],
   "source": [
    "file = open('variablz.txt', 'x')"
   ]
  },
  {
   "cell_type": "code",
   "execution_count": null,
   "metadata": {},
   "outputs": [],
   "source": [
    "file = open('variablz.txt', 'w')\n",
    "file.write('''\n",
    "Hi\n",
    "I am that New variablz\n",
    "\n",
    "This is writtin example..\n",
    "\n",
    "If file doesn't exist, I create a new one.\n",
    "\n",
    "If file exist, I owerwrite the contents\n",
    "''')\n",
    "file.close()"
   ]
  },
  {
   "cell_type": "code",
   "execution_count": null,
   "metadata": {},
   "outputs": [],
   "source": [
    "file = open('students.csv', 'w')\n",
    "\n",
    "file.write('''\n",
    "S.No, Course, Duration,Fee\n",
    "1, Python,30, 6000\n",
    "2, Java, 30,6000\n",
    "3, SQL, 30,6000\n",
    "''')\n",
    "\n",
    "file.close()"
   ]
  },
  {
   "cell_type": "code",
   "execution_count": null,
   "metadata": {},
   "outputs": [],
   "source": [
    "file = open('students.csv', 'a')\n",
    "\n",
    "file.write('''\n",
    "4, R program,30, 6000\n",
    "5, Julia, 30, 6000\n",
    "6, Rust, 30, 6000\n",
    "''')\n",
    "\n",
    "file.close()"
   ]
  },
  {
   "cell_type": "code",
   "execution_count": null,
   "metadata": {},
   "outputs": [
    {
     "name": "stdout",
     "output_type": "stream",
     "text": [
      "\n",
      "Hi\n",
      "I am that New variablz\n",
      "\n",
      "This is writtin example..\n",
      "\n",
      "If file doesn't exist, I create a new one.\n",
      "\n",
      "If file exist, I owerwrite the contents\n",
      "\n"
     ]
    }
   ],
   "source": [
    "file = open('variablz.txt', mode='r',)\n",
    "contents = file.read()\n",
    "print(contents)\n",
    "file.close()"
   ]
  },
  {
   "cell_type": "code",
   "execution_count": null,
   "metadata": {},
   "outputs": [
    {
     "name": "stdout",
     "output_type": "stream",
     "text": [
      "['\\n', 'Hi\\n', 'I am that New variablz\\n', '\\n', 'This is writtin example..\\n', '\\n', \"If file doesn't exist, I create a new one.\\n\", '\\n', 'If file exist, I owerwrite the contents\\n']\n"
     ]
    }
   ],
   "source": [
    "file = open('variablz.txt', mode='r', ) \n",
    "contents = file.readlines()\n",
    "print(contents)\n",
    "file.close()"
   ]
  },
  {
   "cell_type": "code",
   "execution_count": null,
   "metadata": {},
   "outputs": [],
   "source": [
    "file_name = 'variablz.txt'"
   ]
  },
  {
   "cell_type": "code",
   "execution_count": null,
   "metadata": {},
   "outputs": [],
   "source": [
    "with open(file_name, 'w') as file:\n",
    "    file.write('This file written by context manager')"
   ]
  },
  {
   "cell_type": "code",
   "execution_count": null,
   "metadata": {},
   "outputs": [],
   "source": [
    "import os"
   ]
  },
  {
   "cell_type": "code",
   "execution_count": null,
   "metadata": {},
   "outputs": [
    {
     "name": "stdout",
     "output_type": "stream",
     "text": [
      "File deleted successfully\n"
     ]
    }
   ],
   "source": [
    "if os.path.exists(\"variablz.txt\"):\n",
    "    os.remove('variablz.txt')\n",
    "    print('File deleted successfully')\n",
    "else:\n",
    "    print('The file does not exist')"
   ]
  },
  {
   "cell_type": "code",
   "execution_count": null,
   "metadata": {},
   "outputs": [
    {
     "name": "stdout",
     "output_type": "stream",
     "text": [
      "The file does not exist\n"
     ]
    }
   ],
   "source": [
    "if os.path.exists(\"variablz.txt\"):\n",
    "    print('File Exist')\n",
    "else:\n",
    "    print(\"The file does not exist\")"
   ]
  },
  {
   "cell_type": "code",
   "execution_count": null,
   "metadata": {},
   "outputs": [],
   "source": [
    "def calculate_area():\n",
    "    length = 50\n",
    "    width = 40\n",
    "    area = length * width\n",
    "    print(area)"
   ]
  },
  {
   "cell_type": "code",
   "execution_count": null,
   "metadata": {},
   "outputs": [
    {
     "name": "stdout",
     "output_type": "stream",
     "text": [
      "2000\n",
      "2000\n",
      "2000\n"
     ]
    }
   ],
   "source": [
    "calculate_area()\n",
    "\n",
    "calculate_area()\n",
    "\n",
    "calculate_area()"
   ]
  },
  {
   "cell_type": "code",
   "execution_count": null,
   "metadata": {},
   "outputs": [
    {
     "name": "stdout",
     "output_type": "stream",
     "text": [
      "2000\n"
     ]
    }
   ],
   "source": [
    "length = 50\n",
    "width = 40\n",
    "area = length * width\n",
    "print(area)"
   ]
  },
  {
   "cell_type": "code",
   "execution_count": null,
   "metadata": {},
   "outputs": [
    {
     "name": "stdout",
     "output_type": "stream",
     "text": [
      "2000\n"
     ]
    }
   ],
   "source": [
    "length = 50\n",
    "width = 40\n",
    "area = length * width\n",
    "print(area)"
   ]
  },
  {
   "cell_type": "code",
   "execution_count": null,
   "metadata": {},
   "outputs": [
    {
     "name": "stdout",
     "output_type": "stream",
     "text": [
      "2000\n",
      "3000\n",
      "4500\n"
     ]
    }
   ],
   "source": [
    "length = 50\n",
    "width = 40\n",
    "area_01 = length * width\n",
    "print(area_01)\n",
    "\n",
    "length = 100\n",
    "width = 30\n",
    "area_02 = length * width\n",
    "print(area_02)\n",
    "\n",
    "length = 50\n",
    "width = 90\n",
    "area_03 = length * width\n",
    "print(area_03)"
   ]
  },
  {
   "cell_type": "code",
   "execution_count": null,
   "metadata": {},
   "outputs": [],
   "source": [
    "def calculate_area(length,width):\n",
    "\n",
    "    area = length * width\n",
    "    print(area)"
   ]
  },
  {
   "cell_type": "code",
   "execution_count": null,
   "metadata": {},
   "outputs": [
    {
     "name": "stdout",
     "output_type": "stream",
     "text": [
      "2000\n",
      "3000\n",
      "4500\n"
     ]
    }
   ],
   "source": [
    "calculate_area(50,40)\n",
    "calculate_area(100,30)\n",
    "calculate_area(50,90)"
   ]
  },
  {
   "cell_type": "code",
   "execution_count": null,
   "metadata": {},
   "outputs": [],
   "source": [
    "def calculate_area(length, width):\n",
    "    \n",
    "    area = length * width\n",
    "    return area"
   ]
  },
  {
   "cell_type": "code",
   "execution_count": null,
   "metadata": {},
   "outputs": [
    {
     "data": {
      "text/plain": [
       "5000"
      ]
     },
     "execution_count": 16,
     "metadata": {},
     "output_type": "execute_result"
    }
   ],
   "source": [
    "area01 = calculate_area(50, 40)\n",
    "area02 = calculate_area(100, 30)\n",
    "\n",
    "total_area = area01 + area_02\n",
    "total_area"
   ]
  },
  {
   "cell_type": "code",
   "execution_count": 70,
   "metadata": {},
   "outputs": [],
   "source": [
    "def add_user(Name, mailId, phoneNumber, age = 16, city='Cuddalore'):\n",
    "    user = {\n",
    "        'firstname':Name,\n",
    "        'mailId':mailId,\n",
    "        'phonenumber':phoneNumber,\n",
    "        'age':age,\n",
    "        'city':city\n",
    "    }\n",
    "\n",
    "    return user\n"
   ]
  },
  {
   "cell_type": "code",
   "execution_count": 74,
   "metadata": {},
   "outputs": [
    {
     "data": {
      "text/plain": [
       "{'firstname': 'Parthiban',\n",
       " 'mailId': 'parthiban@gmail.com',\n",
       " 'phonenumber': '8224576358',\n",
       " 'age': 23,\n",
       " 'city': 'Pondicherry'}"
      ]
     },
     "execution_count": 74,
     "metadata": {},
     "output_type": "execute_result"
    }
   ],
   "source": [
    "add_user('Parthiban', 'parthiban@gmail.com', '8224576358',\n",
    "         city = 'Pondicherry', age=23)"
   ]
  },
  {
   "cell_type": "code",
   "execution_count": 83,
   "metadata": {},
   "outputs": [],
   "source": [
    "def order_food(*items):\n",
    "    cart = []\n",
    "\n",
    "    for item in items:\n",
    "        cart.append(item)\n",
    "\n",
    "    return cart"
   ]
  },
  {
   "cell_type": "code",
   "execution_count": 84,
   "metadata": {},
   "outputs": [
    {
     "name": "stdout",
     "output_type": "stream",
     "text": [
      "['chilly chikken', 'garlic chikken', 'butter rotti', 'goli soda']\n"
     ]
    }
   ],
   "source": [
    "lunch = order_food('chilly chikken', 'garlic chikken',\n",
    "                   'butter rotti', 'goli soda')\n",
    "print(lunch)"
   ]
  },
  {
   "cell_type": "code",
   "execution_count": 85,
   "metadata": {},
   "outputs": [],
   "source": [
    "def sum_all_numbers(*numbers):\n",
    "\n",
    "    total = sum(total)\n",
    "    return total"
   ]
  },
  {
   "cell_type": "code",
   "execution_count": 89,
   "metadata": {},
   "outputs": [],
   "source": [
    "def calculate_area(length, height):\n",
    "    \"\"\"\n",
    "    To calculate the rectangle area:\n",
    "    calculate_area(length of rectangle, height of rectangle)\n",
    "    \"\"\"\n",
    "    rectangle_area = length * height\n",
    "\n",
    "    return rectangle_area"
   ]
  },
  {
   "cell_type": "code",
   "execution_count": 90,
   "metadata": {},
   "outputs": [
    {
     "name": "stdout",
     "output_type": "stream",
     "text": [
      "Help on function calculate_area in module __main__:\n",
      "\n",
      "calculate_area(length, height)\n",
      "    To calculate the rectangle area:\n",
      "    calculate_area(length of rectangle, height of rectangle)\n",
      "\n"
     ]
    }
   ],
   "source": [
    "help(calculate_area)"
   ]
  },
  {
   "cell_type": "code",
   "execution_count": null,
   "metadata": {},
   "outputs": [],
   "source": []
  }
 ],
 "metadata": {
  "kernelspec": {
   "display_name": ".venv",
   "language": "python",
   "name": "python3"
  },
  "language_info": {
   "codemirror_mode": {
    "name": "ipython",
    "version": 3
   },
   "file_extension": ".py",
   "mimetype": "text/x-python",
   "name": "python",
   "nbconvert_exporter": "python",
   "pygments_lexer": "ipython3",
   "version": "3.10.12"
  }
 },
 "nbformat": 4,
 "nbformat_minor": 2
}
